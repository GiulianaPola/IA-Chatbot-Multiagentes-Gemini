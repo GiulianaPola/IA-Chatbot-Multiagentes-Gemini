{
  "nbformat": 4,
  "nbformat_minor": 0,
  "metadata": {
    "colab": {
      "provenance": []
    },
    "kernelspec": {
      "name": "python3",
      "display_name": "Python 3"
    },
    "language_info": {
      "name": "python"
    }
  },
  "cells": [
    {
      "cell_type": "code",
      "source": [
        "import os"
      ],
      "metadata": {
        "id": "P1sjDEmzE1Je"
      },
      "execution_count": null,
      "outputs": []
    },
    {
      "cell_type": "markdown",
      "source": [
        "#Criar nova chave API\n",
        "\n",
        "Para criar uma API Key no [Google AI Studio](https://aistudio.google.com/apikey), você deve seguir alguns passos simples. Aqui está um guia básico:\n",
        "\n",
        "1. Acesse o Google AI Studio: Entre na plataforma do Google AI Studio com sua conta do Google.\n",
        "\n",
        "2. Crie um novo projeto: Se ainda não tiver um projeto, crie um novo. Isso geralmente é feito na página inicial do AI Studio.\n",
        "\n",
        "3. Navegue até as configurações da API: Dentro do seu projeto, procure a seção de configurações ou gerenciamento de APIs.\n",
        "\n",
        "4. Gere uma nova API Key: Haverá uma opção para gerar uma nova chave de API. Clique nessa opção e siga as instruções. Você pode precisar definir algumas permissões ou restrições para a chave.\n",
        "\n",
        "5. Copie a chave: Após a geração, copie a chave API. Guarde-a em um lugar seguro, pois você precisará dela para autenticar suas requisições à API do Gemini.\n",
        "\n",
        "Lembre-se de que a chave API é sensível e deve ser mantida em segredo. Não a compartilhe publicamente ou a exponha em seu código."
      ],
      "metadata": {
        "id": "2CKmQqI4B8Mr"
      }
    },
    {
      "cell_type": "markdown",
      "source": [
        "#Instalar a SDK do Google Gemini (Generaative AI)\n",
        "O comando !pip install google-genai é utilizado para instalar a biblioteca google-genai no ambiente do Google Colab. O pip é o gerenciador de pacotes do Python, e o ! no início do comando é uma forma de executar comandos de terminal diretamente em uma célula do Colab.\n",
        "\n",
        "Ao executar esse comando, você estará baixando e instalando a biblioteca google-genai, que é necessária para interagir com a API do Google AI, permitindo que você utilize funcionalidades relacionadas à inteligência artificial em seus projetos.\n"
      ],
      "metadata": {
        "id": "OQOy06cZDAw1"
      }
    },
    {
      "cell_type": "code",
      "source": [
        "!pip install google-genai"
      ],
      "metadata": {
        "colab": {
          "base_uri": "https://localhost:8080/"
        },
        "id": "rtlVaA3ADSgF",
        "outputId": "b26bda5f-5aa4-44cb-8435-189ffa8f0f30"
      },
      "execution_count": null,
      "outputs": [
        {
          "output_type": "stream",
          "name": "stdout",
          "text": [
            "Requirement already satisfied: google-genai in /usr/local/lib/python3.11/dist-packages (1.15.0)\n",
            "Requirement already satisfied: anyio<5.0.0,>=4.8.0 in /usr/local/lib/python3.11/dist-packages (from google-genai) (4.9.0)\n",
            "Requirement already satisfied: google-auth<3.0.0,>=2.14.1 in /usr/local/lib/python3.11/dist-packages (from google-genai) (2.38.0)\n",
            "Requirement already satisfied: httpx<1.0.0,>=0.28.1 in /usr/local/lib/python3.11/dist-packages (from google-genai) (0.28.1)\n",
            "Requirement already satisfied: pydantic<3.0.0,>=2.0.0 in /usr/local/lib/python3.11/dist-packages (from google-genai) (2.11.4)\n",
            "Requirement already satisfied: requests<3.0.0,>=2.28.1 in /usr/local/lib/python3.11/dist-packages (from google-genai) (2.32.3)\n",
            "Requirement already satisfied: websockets<15.1.0,>=13.0.0 in /usr/local/lib/python3.11/dist-packages (from google-genai) (15.0.1)\n",
            "Requirement already satisfied: typing-extensions<5.0.0,>=4.11.0 in /usr/local/lib/python3.11/dist-packages (from google-genai) (4.13.2)\n",
            "Requirement already satisfied: idna>=2.8 in /usr/local/lib/python3.11/dist-packages (from anyio<5.0.0,>=4.8.0->google-genai) (3.10)\n",
            "Requirement already satisfied: sniffio>=1.1 in /usr/local/lib/python3.11/dist-packages (from anyio<5.0.0,>=4.8.0->google-genai) (1.3.1)\n",
            "Requirement already satisfied: cachetools<6.0,>=2.0.0 in /usr/local/lib/python3.11/dist-packages (from google-auth<3.0.0,>=2.14.1->google-genai) (5.5.2)\n",
            "Requirement already satisfied: pyasn1-modules>=0.2.1 in /usr/local/lib/python3.11/dist-packages (from google-auth<3.0.0,>=2.14.1->google-genai) (0.4.2)\n",
            "Requirement already satisfied: rsa<5,>=3.1.4 in /usr/local/lib/python3.11/dist-packages (from google-auth<3.0.0,>=2.14.1->google-genai) (4.9.1)\n",
            "Requirement already satisfied: certifi in /usr/local/lib/python3.11/dist-packages (from httpx<1.0.0,>=0.28.1->google-genai) (2025.4.26)\n",
            "Requirement already satisfied: httpcore==1.* in /usr/local/lib/python3.11/dist-packages (from httpx<1.0.0,>=0.28.1->google-genai) (1.0.9)\n",
            "Requirement already satisfied: h11>=0.16 in /usr/local/lib/python3.11/dist-packages (from httpcore==1.*->httpx<1.0.0,>=0.28.1->google-genai) (0.16.0)\n",
            "Requirement already satisfied: annotated-types>=0.6.0 in /usr/local/lib/python3.11/dist-packages (from pydantic<3.0.0,>=2.0.0->google-genai) (0.7.0)\n",
            "Requirement already satisfied: pydantic-core==2.33.2 in /usr/local/lib/python3.11/dist-packages (from pydantic<3.0.0,>=2.0.0->google-genai) (2.33.2)\n",
            "Requirement already satisfied: typing-inspection>=0.4.0 in /usr/local/lib/python3.11/dist-packages (from pydantic<3.0.0,>=2.0.0->google-genai) (0.4.0)\n",
            "Requirement already satisfied: charset-normalizer<4,>=2 in /usr/local/lib/python3.11/dist-packages (from requests<3.0.0,>=2.28.1->google-genai) (3.4.2)\n",
            "Requirement already satisfied: urllib3<3,>=1.21.1 in /usr/local/lib/python3.11/dist-packages (from requests<3.0.0,>=2.28.1->google-genai) (2.4.0)\n",
            "Requirement already satisfied: pyasn1<0.7.0,>=0.6.1 in /usr/local/lib/python3.11/dist-packages (from pyasn1-modules>=0.2.1->google-auth<3.0.0,>=2.14.1->google-genai) (0.6.1)\n"
          ]
        }
      ]
    },
    {
      "cell_type": "markdown",
      "source": [
        "#Guardar a chave API\n",
        "Ao trabalhar com o Google Colab, especialmente quando se utiliza APIs que requerem autenticação, como a API do Google AI.\n",
        "\n",
        "Nesse contexto, o objetivo principal é **configurar uma chave de API de forma segura**. O Google Colab permite que os usuários armazenem informações sensíveis, como chaves de API, de maneira que **não fiquem expostas diretamente no código**. Isso é feito através de um módulo específico que facilita o acesso a esses dados armazenados durante a sessão.\n",
        "\n",
        "Ao **definir uma variável de ambiente para a chave da API**, o usuário garante que seu código pode acessar a API do Google de maneira segura, sem expor suas credenciais. Essa abordagem é fundamental para proteger informações sensíveis, especialmente em ambientes colaborativos, onde o código pode ser compartilhado entre diferentes pessoas.\n",
        "\n",
        "Em resumo, essa prática não apenas melhora a segurança do código, mas também permite que os desenvolvedores integrem funcionalidades de inteligência artificial em seus projetos de forma eficiente e protegida."
      ],
      "metadata": {
        "id": "GWddHMnoClM8"
      }
    },
    {
      "cell_type": "code",
      "source": [
        "import os\n",
        "from google.colab import userdata\n",
        "os.environ['GOOGLE_API_KEY'] = userdata.get('GOOGLE_API_KEY')"
      ],
      "metadata": {
        "id": "_x0zJbC6DuAh"
      },
      "execution_count": null,
      "outputs": []
    },
    {
      "cell_type": "markdown",
      "source": [
        "#Cliente SDK - Utilização de uma biblioteca que permite interagir com a API do Google relacionada à inteligência artificial"
      ],
      "metadata": {
        "id": "5jMawNXno3HV"
      }
    },
    {
      "cell_type": "markdown",
      "source": [
        "\n",
        "Ao importar a biblioteca e criar um cliente, o usuário está se preparando para fazer chamadas à API, o que possibilita acessar diversas funcionalidades oferecidas pelo Google AI.\n",
        "\n",
        "O cliente atua como uma interface que facilita a comunicação entre o seu código e os serviços de inteligência artificial do Google. Com ele, é possível realizar tarefas como processamento de linguagem natural, geração de texto, entre outras aplicações que utilizam modelos de IA avançados."
      ],
      "metadata": {
        "id": "vnD7YRYXrmK8"
      }
    },
    {
      "cell_type": "code",
      "source": [
        "from google import genai\n",
        "client = genai.Client()"
      ],
      "metadata": {
        "id": "AAwcfRAKo9cG"
      },
      "execution_count": null,
      "outputs": []
    },
    {
      "cell_type": "code",
      "source": [
        "for model in client.models.list():\n",
        "  print(model.name)"
      ],
      "metadata": {
        "colab": {
          "base_uri": "https://localhost:8080/"
        },
        "id": "xCpuQRXVqG-x",
        "outputId": "9147598c-2cdb-43a9-d8ca-7a5129fedc95"
      },
      "execution_count": null,
      "outputs": [
        {
          "output_type": "stream",
          "name": "stdout",
          "text": [
            "models/embedding-gecko-001\n",
            "models/gemini-1.0-pro-vision-latest\n",
            "models/gemini-pro-vision\n",
            "models/gemini-1.5-pro-latest\n",
            "models/gemini-1.5-pro-001\n",
            "models/gemini-1.5-pro-002\n",
            "models/gemini-1.5-pro\n",
            "models/gemini-1.5-flash-latest\n",
            "models/gemini-1.5-flash-001\n",
            "models/gemini-1.5-flash-001-tuning\n",
            "models/gemini-1.5-flash\n",
            "models/gemini-1.5-flash-002\n",
            "models/gemini-1.5-flash-8b\n",
            "models/gemini-1.5-flash-8b-001\n",
            "models/gemini-1.5-flash-8b-latest\n",
            "models/gemini-1.5-flash-8b-exp-0827\n",
            "models/gemini-1.5-flash-8b-exp-0924\n",
            "models/gemini-2.5-pro-exp-03-25\n",
            "models/gemini-2.5-pro-preview-03-25\n",
            "models/gemini-2.5-flash-preview-04-17\n",
            "models/gemini-2.5-flash-preview-04-17-thinking\n",
            "models/gemini-2.5-pro-preview-05-06\n",
            "models/gemini-2.0-flash-exp\n",
            "models/gemini-2.0-flash\n",
            "models/gemini-2.0-flash-001\n",
            "models/gemini-2.0-flash-exp-image-generation\n",
            "models/gemini-2.0-flash-lite-001\n",
            "models/gemini-2.0-flash-lite\n",
            "models/gemini-2.0-flash-preview-image-generation\n",
            "models/gemini-2.0-flash-lite-preview-02-05\n",
            "models/gemini-2.0-flash-lite-preview\n",
            "models/gemini-2.0-pro-exp\n",
            "models/gemini-2.0-pro-exp-02-05\n",
            "models/gemini-exp-1206\n",
            "models/gemini-2.0-flash-thinking-exp-01-21\n",
            "models/gemini-2.0-flash-thinking-exp\n",
            "models/gemini-2.0-flash-thinking-exp-1219\n",
            "models/learnlm-2.0-flash-experimental\n",
            "models/gemma-3-1b-it\n",
            "models/gemma-3-4b-it\n",
            "models/gemma-3-12b-it\n",
            "models/gemma-3-27b-it\n",
            "models/embedding-001\n",
            "models/text-embedding-004\n",
            "models/gemini-embedding-exp-03-07\n",
            "models/gemini-embedding-exp\n",
            "models/aqa\n",
            "models/imagen-3.0-generate-002\n",
            "models/gemini-2.0-flash-live-001\n"
          ]
        }
      ]
    },
    {
      "cell_type": "markdown",
      "source": [
        "#Gerar uma resposta a partir de um modelo do Gemini"
      ],
      "metadata": {
        "id": "-eSwXHeu22Xx"
      }
    },
    {
      "cell_type": "code",
      "source": [
        "model = \"gemini-2.0-flash\"\n",
        "response = client.models.generate_content(model=model,contents=\"O que é inteligência artificial?\")"
      ],
      "metadata": {
        "id": "PuVUWc3Dwso6"
      },
      "execution_count": null,
      "outputs": []
    },
    {
      "cell_type": "code",
      "source": [
        "response.text"
      ],
      "metadata": {
        "colab": {
          "base_uri": "https://localhost:8080/"
        },
        "id": "EtHUfmDsy2b9",
        "outputId": "371d25f7-21b8-42d9-c662-12759946f661"
      },
      "execution_count": null,
      "outputs": [
        {
          "output_type": "execute_result",
          "data": {
            "text/plain": [
              "'Inteligência Artificial (IA) é um campo da ciência da computação que se dedica a criar sistemas e máquinas capazes de realizar tarefas que normalmente exigiriam inteligência humana. Essas tarefas incluem:\\n\\n*   **Aprendizado:** A capacidade de aprender com dados, sem serem explicitamente programados.\\n*   **Raciocínio:** A capacidade de resolver problemas, tirar conclusões lógicas e tomar decisões.\\n*   **Percepção:** A capacidade de perceber e interpretar informações do mundo ao redor, como imagens, sons e textos.\\n*   **Compreensão da linguagem natural:** A capacidade de entender e gerar linguagem humana.\\n\\nEm termos mais simples, IA busca replicar ou simular a inteligência humana em máquinas. Isso pode envolver o desenvolvimento de algoritmos e modelos computacionais que permitem que as máquinas:\\n\\n*   **Reconheçam padrões:** Identifiquem tendências e regularidades em grandes conjuntos de dados.\\n*   **Façam previsões:** Usem dados históricos para prever eventos futuros.\\n*   **Automatizem tarefas:** Realizem tarefas repetitivas ou complexas sem intervenção humana.\\n*   **Interajam com humanos:** Comuniquem-se em linguagem natural, respondam a perguntas e ofereçam assistência.\\n\\nA IA pode ser dividida em diferentes categorias, como:\\n\\n*   **IA Fraca ou Estreita (Narrow AI):** Projetada para realizar uma tarefa específica, como reconhecimento facial, tradução de idiomas ou recomendação de produtos.\\n*   **IA Forte ou Geral (General AI):** Um tipo de IA hipotético com a capacidade de entender, aprender e aplicar seu conhecimento em qualquer tarefa que um ser humano possa realizar.\\n*   **Superinteligência:** Um tipo de IA hipotético que excede a inteligência humana em todos os aspectos.\\n\\nA IA já está presente em muitas áreas de nossas vidas, como:\\n\\n*   **Assistentes virtuais:** Siri, Alexa e Google Assistant.\\n*   **Recomendação de conteúdo:** Netflix, Spotify e YouTube.\\n*   **Carros autônomos:** Veículos que dirigem sozinhos.\\n*   **Diagnóstico médico:** Sistemas que auxiliam médicos a identificar doenças.\\n*   **Detecção de fraudes:** Sistemas que identificam transações financeiras suspeitas.\\n\\nÉ importante notar que o campo da IA está em constante evolução e novas aplicações e tecnologias estão surgindo regularmente.'"
            ],
            "application/vnd.google.colaboratory.intrinsic+json": {
              "type": "string"
            }
          },
          "metadata": {},
          "execution_count": 7
        }
      ]
    },
    {
      "cell_type": "markdown",
      "source": [
        "#Criar um chat utilizando um modelo do Gemini"
      ],
      "metadata": {
        "id": "G5JIbujg2mWd"
      }
    },
    {
      "cell_type": "code",
      "source": [
        "chat = client.chats.create(model=model)\n",
        "response = chat.send_message(\"Você é um assistente pessoal e você sempre responde de forma sucinta. O que é inteligência artificial?\")\n",
        "response.text"
      ],
      "metadata": {
        "colab": {
          "base_uri": "https://localhost:8080/"
        },
        "id": "agb-6x84y3il",
        "outputId": "3b608192-e371-4aef-9a03-4a495f2b0997"
      },
      "execution_count": null,
      "outputs": [
        {
          "output_type": "execute_result",
          "data": {
            "text/plain": [
              "'É a capacidade de máquinas imitarem a inteligência humana.\\n'"
            ],
            "application/vnd.google.colaboratory.intrinsic+json": {
              "type": "string"
            }
          },
          "metadata": {},
          "execution_count": 8
        }
      ]
    },
    {
      "cell_type": "markdown",
      "source": [
        "#Criar um chat com configurações personalizadas"
      ],
      "metadata": {
        "id": "kQmGC-402tkz"
      }
    },
    {
      "cell_type": "code",
      "source": [
        "from google.genai import types\n",
        "chat_config =types.GenerateContentConfig(\n",
        "    system_instruction=\"Você é um assistente pessoal e você sempre responde de forma sucinta.\"\n",
        ")\n",
        "chat = client.chats.create(model=model, config=chat_config)\n",
        "response = chat.send_message(\"O que é inteligência artificial?\")\n",
        "response.text"
      ],
      "metadata": {
        "colab": {
          "base_uri": "https://localhost:8080/"
        },
        "id": "9aIKzcrq1MVl",
        "outputId": "45ac09db-2120-4d39-83fd-01109a987147"
      },
      "execution_count": null,
      "outputs": [
        {
          "output_type": "execute_result",
          "data": {
            "text/plain": [
              "'Inteligência artificial é a capacidade de um computador imitar habilidades cognitivas humanas, como aprendizado e resolução de problemas.'"
            ],
            "application/vnd.google.colaboratory.intrinsic+json": {
              "type": "string"
            }
          },
          "metadata": {},
          "execution_count": 9
        }
      ]
    },
    {
      "cell_type": "code",
      "source": [
        "chat.get_history()"
      ],
      "metadata": {
        "colab": {
          "base_uri": "https://localhost:8080/"
        },
        "id": "uI7GjsWC3ERF",
        "outputId": "2ce31d7d-3cf7-4fb3-a5cc-41f3db049cb2"
      },
      "execution_count": null,
      "outputs": [
        {
          "output_type": "execute_result",
          "data": {
            "text/plain": [
              "[UserContent(parts=[Part(video_metadata=None, thought=None, inline_data=None, code_execution_result=None, executable_code=None, file_data=None, function_call=None, function_response=None, text='O que é inteligência artificial?')], role='user'),\n",
              " Content(parts=[Part(video_metadata=None, thought=None, inline_data=None, code_execution_result=None, executable_code=None, file_data=None, function_call=None, function_response=None, text='Inteligência artificial é a capacidade de um computador imitar habilidades cognitivas humanas, como aprendizado e resolução de problemas.')], role='model')]"
            ]
          },
          "metadata": {},
          "execution_count": 10
        }
      ]
    },
    {
      "cell_type": "code",
      "source": [
        "prompt = input(\"Digite sua pergunta: \")\n",
        "\n",
        "while not prompt.lower() in (\"tchau\",\"sair\",\"fim\"):\n",
        "  response = chat.send_message(prompt)\n",
        "  print(response.text)\n",
        "  prompt = input(\"Digite sua pergunta: \")\n",
        "response = chat.send_message(prompt)\n",
        "print(response.text)"
      ],
      "metadata": {
        "id": "DPAgLouYwphF"
      },
      "execution_count": null,
      "outputs": []
    }
  ]
}